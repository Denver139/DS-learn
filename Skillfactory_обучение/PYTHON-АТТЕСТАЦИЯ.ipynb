{
 "cells": [
  {
   "cell_type": "code",
   "execution_count": 1,
   "metadata": {},
   "outputs": [],
   "source": [
    "import pandas as pd\n",
    "import numpy as np\n",
    "import matplotlib.pyplot as plt\n",
    "import seaborn as sns\n",
    "import plotly.express as px"
   ]
  },
  {
   "cell_type": "code",
   "execution_count": 7,
   "metadata": {},
   "outputs": [],
   "source": [
    "def apply_discounts(products, stocks):\n",
    "    result = {}\n",
    "    for product, price in products.items():\n",
    "        if product in stocks:\n",
    "            discount = stocks[product]\n",
    "            new_price = round(float(price) * (1 - discount/100), 2)\n",
    "            result[product] = new_price\n",
    "        else:\n",
    "            result[product] = float(price)\n",
    "    return result\n",
    "products = {'apple': '1.50', 'banana': '2.00', 'orange': '1.75'}\n",
    "stocks = {'apple': 10, 'orange': 20}"
   ]
  }
 ],
 "metadata": {
  "kernelspec": {
   "display_name": "Python 3",
   "language": "python",
   "name": "python3"
  },
  "language_info": {
   "codemirror_mode": {
    "name": "ipython",
    "version": 3
   },
   "file_extension": ".py",
   "mimetype": "text/x-python",
   "name": "python",
   "nbconvert_exporter": "python",
   "pygments_lexer": "ipython3",
   "version": "3.11.1"
  },
  "orig_nbformat": 4
 },
 "nbformat": 4,
 "nbformat_minor": 2
}
